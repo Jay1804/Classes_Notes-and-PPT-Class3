{
 "cells": [
  {
   "cell_type": "code",
   "execution_count": 3,
   "metadata": {},
   "outputs": [],
   "source": [
    "name=\"raje\""
   ]
  },
  {
   "cell_type": "code",
   "execution_count": 5,
   "metadata": {},
   "outputs": [],
   "source": [
    "age=19"
   ]
  },
  {
   "cell_type": "code",
   "execution_count": 6,
   "metadata": {},
   "outputs": [
    {
     "name": "stdout",
     "output_type": "stream",
     "text": [
      "Students's Full name is Raje Sana\n"
     ]
    }
   ],
   "source": [
    "if name == \"raje\":\n",
    "    print(\"Students's Full name is Raje Sana\")"
   ]
  },
  {
   "cell_type": "code",
   "execution_count": 7,
   "metadata": {},
   "outputs": [],
   "source": [
    "if age>20:\n",
    "    print(\"He is an Adult\")"
   ]
  },
  {
   "cell_type": "code",
   "execution_count": 8,
   "metadata": {},
   "outputs": [
    {
     "name": "stdout",
     "output_type": "stream",
     "text": [
      "He is a baby!\n"
     ]
    }
   ],
   "source": [
    "if age>20:\n",
    "    print(\"He is an Adult\")\n",
    "else:\n",
    "    print(\"He is a baby!\")"
   ]
  },
  {
   "cell_type": "code",
   "execution_count": 16,
   "metadata": {},
   "outputs": [
    {
     "name": "stdout",
     "output_type": "stream",
     "text": [
      "He is eligible to run for elections\n"
     ]
    }
   ],
   "source": [
    "if age>20:\n",
    "    print(\"He is an Adult\")\n",
    "elif age==20:\n",
    "    print(\"He is eligible to vote\")\n",
    "elif age==19:\n",
    "    print(\"He is eligible to run for elections\")\n",
    "else:\n",
    "    print(\"He is a baby!\")\n"
   ]
  }
 ],
 "metadata": {
  "kernelspec": {
   "display_name": "Python 3",
   "language": "python",
   "name": "python3"
  },
  "language_info": {
   "codemirror_mode": {
    "name": "ipython",
    "version": 3
   },
   "file_extension": ".py",
   "mimetype": "text/x-python",
   "name": "python",
   "nbconvert_exporter": "python",
   "pygments_lexer": "ipython3",
   "version": "3.7.1"
  }
 },
 "nbformat": 4,
 "nbformat_minor": 2
}
